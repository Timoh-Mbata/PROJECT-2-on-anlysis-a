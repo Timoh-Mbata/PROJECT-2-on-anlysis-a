{
 "cells": [
  {
   "cell_type": "code",
   "execution_count": null,
   "metadata": {},
   "outputs": [],
   "source": [
    "import pandas as pd\n",
    "'''In this checkpoint, we are going to work on 'Education Attainment And Enrolment Around The World' dataset, \n",
    "provided by the World bank group.\n",
    "Dataset description : The dataset was derived from the original copy, \n",
    "which was published on the world bank website. The primary purpose of this database is to document and \n",
    "analyse patterns of educational attainment rates in different country around the world.'''\n",
    "from ydata_profiling import ProfileReport\n",
    "df=pd.read_csv('EDUCATION_ATTAINMENT.csv')\n",
    "#print(df.tail())\n",
    "print(df.head())\n",
    "print(df.columns)\n",
    "columns=df.columns[df.isnull().any()]\n",
    "print(columns)\n",
    "df.dropna(inplace=True)\n",
    "rename={'Ages[15-49]_All_grade1':'Ages[15-19]_All_grade1','Ages[15-49]_All_grade2':'Ages[15-19]_All_grade2','Ages[15-49]_All_grade3':'Ages[15-19]_All_grade3'}\n",
    "df.rename(columns=rename,inplace=True)\n",
    "print(df.columns)\n",
    "profile_report=ProfileReport(df,title=\"SUMMARRY\")\n",
    "profile_report.to_file(\"MY PROFILE SUMMARRY.html\")\n",
    "profile_report.to_notebook_iframe()"
   ]
  }
 ],
 "metadata": {
  "kernelspec": {
   "display_name": "Python 3",
   "language": "python",
   "name": "python3"
  },
  "language_info": {
   "codemirror_mode": {
    "name": "ipython",
    "version": 3
   },
   "file_extension": ".py",
   "mimetype": "text/x-python",
   "name": "python",
   "nbconvert_exporter": "python",
   "pygments_lexer": "ipython3",
   "version": "3.11.9"
  }
 },
 "nbformat": 4,
 "nbformat_minor": 2
}
